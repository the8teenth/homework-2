{
 "cells": [
  {
   "cell_type": "markdown",
   "id": "5e49f9ca",
   "metadata": {},
   "source": [
    "## Задание 1"
   ]
  },
  {
   "cell_type": "code",
   "execution_count": 57,
   "id": "69a84a76",
   "metadata": {},
   "outputs": [
    {
     "name": "stdout",
     "output_type": "stream",
     "text": [
      "testing\n",
      "t\n"
     ]
    }
   ],
   "source": [
    "word = str(input())\n",
    "l_c = len(word)        #l_c - letter count\n",
    "\n",
    "if l_c % 2 == 0:\n",
    "    print(word[int(l_c / 2 - 1) : int(l_c / 2 + 1)])\n",
    "else:\n",
    "    print(word[int(l_c // 2)])"
   ]
  },
  {
   "cell_type": "code",
   "execution_count": 154,
   "id": "553dd07b",
   "metadata": {},
   "outputs": [
    {
     "name": "stdout",
     "output_type": "stream",
     "text": [
      "test\n",
      "es\n"
     ]
    }
   ],
   "source": [
    "word = str(input())\n",
    "l_c = len(word)        #l_c - letter count\n",
    "\n",
    "if l_c % 2 == 0:\n",
    "    print(word[int(l_c / 2 - 1) : int(l_c / 2 + 1)])\n",
    "else:\n",
    "    print(word[int(l_c // 2)])"
   ]
  },
  {
   "cell_type": "markdown",
   "id": "acc7eab6",
   "metadata": {},
   "source": [
    "## Задание 2"
   ]
  },
  {
   "cell_type": "code",
   "execution_count": 153,
   "id": "4a1bd910",
   "metadata": {},
   "outputs": [
    {
     "name": "stdout",
     "output_type": "stream",
     "text": [
      "Введите число: 3\n",
      "Введите число: 4\n",
      "Введите число: 5\n",
      "Введите число: 0\n",
      "Сумма чисел: 12\n"
     ]
    }
   ],
   "source": [
    "n = int(input('Введите число: '))\n",
    "sum_n = 0\n",
    "\n",
    "while n != 0:\n",
    "    sum_n += n\n",
    "    n = int(input('Введите число: '))\n",
    "else:\n",
    "    print('Сумма чисел:', sum_n)\n",
    "   \n"
   ]
  },
  {
   "cell_type": "markdown",
   "id": "fad2254f",
   "metadata": {},
   "source": [
    "## Задание 3"
   ]
  },
  {
   "cell_type": "code",
   "execution_count": 155,
   "id": "c6c04e93",
   "metadata": {},
   "outputs": [
    {
     "name": "stdout",
     "output_type": "stream",
     "text": [
      "Идеальные пары:\n",
      "Alex и Emma\n",
      "Arthur и Kate\n",
      "John и Kira\n",
      "Peter и Liza\n",
      "Richard и Trisha\n"
     ]
    }
   ],
   "source": [
    "boys = ['Peter', 'Alex', 'John', 'Arthur', 'Richard']\n",
    "girls = ['Kate', 'Liza', 'Kira', 'Emma', 'Trisha']\n",
    "\n",
    "boys.sort()\n",
    "girls.sort()\n",
    "\n",
    "if len(boys) == len(girls):\n",
    "    print(\"Идеальные пары:\")\n",
    "    for name_b, name_g in zip(boys, girls):\n",
    "        print(f\"{name_b} и {name_g}\")\n",
    "else:\n",
    "    print('Внимание, кто-то может остаться без пары!')"
   ]
  },
  {
   "cell_type": "code",
   "execution_count": 156,
   "id": "7b8c71b2",
   "metadata": {},
   "outputs": [
    {
     "name": "stdout",
     "output_type": "stream",
     "text": [
      "Внимание, кто-то может остаться без пары!\n"
     ]
    }
   ],
   "source": [
    "boys = ['Peter', 'Alex', 'John', 'Arthur', 'Richard', 'Michael']\n",
    "girls = ['Kate', 'Liza', 'Kira', 'Emma', 'Trisha']\n",
    "\n",
    "boys.sort()\n",
    "girls.sort()\n",
    "\n",
    "if len(boys) == len(girls):\n",
    "    print(\"Идеальные пары:\")\n",
    "    for name_b, name_g in zip(boys, girls):\n",
    "        print(f\"{name_b} и {name_g}\")\n",
    "else:\n",
    "    print('Внимание, кто-то может остаться без пары!')"
   ]
  },
  {
   "cell_type": "markdown",
   "id": "268af6d4",
   "metadata": {},
   "source": [
    "## Задание 4"
   ]
  },
  {
   "cell_type": "code",
   "execution_count": 1,
   "id": "b7cd849d",
   "metadata": {},
   "outputs": [
    {
     "name": "stdout",
     "output_type": "stream",
     "text": [
      "Thailand - 23.9 C\n",
      "Germany - 13.8 C\n",
      "Russia - 3.7 C\n",
      "Poland - 12.0 C\n"
     ]
    }
   ],
   "source": [
    "countries_temperature = [\n",
    "    ['Thailand', [75.2, 77, 78.8, 73.4, 68, 75.2, 77]],\n",
    "    ['Germany', [57.2, 55.4, 59, 59, 53.6]],\n",
    "    ['Russia', [35.6, 37.4, 39.2, 41, 42.8, 39.2, 35.6]],\n",
    "    ['Poland', [50, 50, 53.6, 57.2, 55.4, 55.4]]\n",
    "]\n",
    "\n",
    "for i in countries_temperature:\n",
    "    print(i[0], '-', round((sum(i[1]) / len(i[1]) - 32) / 1.8, 1), 'C')"
   ]
  }
 ],
 "metadata": {
  "kernelspec": {
   "display_name": "Python 3",
   "language": "python",
   "name": "python3"
  },
  "language_info": {
   "codemirror_mode": {
    "name": "ipython",
    "version": 3
   },
   "file_extension": ".py",
   "mimetype": "text/x-python",
   "name": "python",
   "nbconvert_exporter": "python",
   "pygments_lexer": "ipython3",
   "version": "3.8.8"
  }
 },
 "nbformat": 4,
 "nbformat_minor": 5
}
